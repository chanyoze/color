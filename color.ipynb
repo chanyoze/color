{
  "nbformat": 4,
  "nbformat_minor": 0,
  "metadata": {
    "colab": {
      "provenance": []
    },
    "kernelspec": {
      "name": "python3",
      "display_name": "Python 3"
    },
    "language_info": {
      "name": "python"
    }
  },
  "cells": [
    {
      "cell_type": "code",
      "source": [
        "import cv2\n",
        "from google.colab.patches import cv2_imshow\n",
        "import matplotlib.pyplot as plt\n",
        "import PIL\n",
        "import numpy as np"
      ],
      "metadata": {
        "id": "aETiyIDBKZBF"
      },
      "execution_count": null,
      "outputs": []
    },
    {
      "cell_type": "code",
      "source": [
        "from google.colab import drive\n",
        "drive.mount('/content/gdrive')\n",
        "\n",
        "#출력되는 내용은 (세로, 가로, 채널 수)\n",
        "\n",
        "with open('/content/gdrive/MyDrive/캡스톤/조양방직1.jpg') as file_object:\n",
        "    image1 = cv2.imread('/content/gdrive/MyDrive/캡스톤/조양방직1.jpg')\n",
        "    print(image.shape)\n",
        "\n",
        "with open('/content/gdrive/MyDrive/캡스톤/조양방직2.jpg') as file_object:\n",
        "    image2 = cv2.imread('/content/gdrive/MyDrive/캡스톤/조양방직2.jpg')\n",
        "    print(image2.shape)"
      ],
      "metadata": {
        "colab": {
          "base_uri": "https://localhost:8080/",
          "height": 266
        },
        "id": "N1Z6GdtpKaYU",
        "outputId": "9c48f67f-2146-4d55-8099-993d78f79809"
      },
      "execution_count": null,
      "outputs": [
        {
          "output_type": "stream",
          "name": "stdout",
          "text": [
            "Drive already mounted at /content/gdrive; to attempt to forcibly remount, call drive.mount(\"/content/gdrive\", force_remount=True).\n"
          ]
        },
        {
          "output_type": "error",
          "ename": "AttributeError",
          "evalue": "ignored",
          "traceback": [
            "\u001b[0;31m---------------------------------------------------------------------------\u001b[0m",
            "\u001b[0;31mAttributeError\u001b[0m                            Traceback (most recent call last)",
            "\u001b[0;32m<ipython-input-6-4a51c0b4b497>\u001b[0m in \u001b[0;36m<module>\u001b[0;34m()\u001b[0m\n\u001b[1;32m      6\u001b[0m \u001b[0;32mwith\u001b[0m \u001b[0mopen\u001b[0m\u001b[0;34m(\u001b[0m\u001b[0;34m'/content/gdrive/MyDrive/캡스톤/조양방직1.jpg'\u001b[0m\u001b[0;34m)\u001b[0m \u001b[0;32mas\u001b[0m \u001b[0mfile_object\u001b[0m\u001b[0;34m:\u001b[0m\u001b[0;34m\u001b[0m\u001b[0;34m\u001b[0m\u001b[0m\n\u001b[1;32m      7\u001b[0m     \u001b[0mimage1\u001b[0m \u001b[0;34m=\u001b[0m \u001b[0mcv2\u001b[0m\u001b[0;34m.\u001b[0m\u001b[0mimread\u001b[0m\u001b[0;34m(\u001b[0m\u001b[0;34m'/content/gdrive/MyDrive/캡스톤/조양방직1.jpg'\u001b[0m\u001b[0;34m)\u001b[0m\u001b[0;34m\u001b[0m\u001b[0;34m\u001b[0m\u001b[0m\n\u001b[0;32m----> 8\u001b[0;31m     \u001b[0mprint\u001b[0m\u001b[0;34m(\u001b[0m\u001b[0mimage\u001b[0m\u001b[0;34m.\u001b[0m\u001b[0mshape\u001b[0m\u001b[0;34m)\u001b[0m\u001b[0;34m\u001b[0m\u001b[0;34m\u001b[0m\u001b[0m\n\u001b[0m\u001b[1;32m      9\u001b[0m \u001b[0;34m\u001b[0m\u001b[0m\n\u001b[1;32m     10\u001b[0m \u001b[0;32mwith\u001b[0m \u001b[0mopen\u001b[0m\u001b[0;34m(\u001b[0m\u001b[0;34m'/content/gdrive/MyDrive/캡스톤/조양방직2.jpg'\u001b[0m\u001b[0;34m)\u001b[0m \u001b[0;32mas\u001b[0m \u001b[0mfile_object\u001b[0m\u001b[0;34m:\u001b[0m\u001b[0;34m\u001b[0m\u001b[0;34m\u001b[0m\u001b[0m\n",
            "\u001b[0;31mAttributeError\u001b[0m: module 'keras.preprocessing.image' has no attribute 'shape'"
          ]
        }
      ]
    },
    {
      "cell_type": "code",
      "source": [
        "#사진 크기 x값 y값 0.5배\n",
        "#img = cv2.resize(image1, dsize=(0,0), fx=0.5, fy=0.5, interpolation=cv2.INTER_AREA)\n",
        "#사진 해상도 강제로 480x640 고정\n",
        "img_size = (480, 640)\n",
        "\n",
        "img1 = cv2.resize(image1, dsize=img_size)\n",
        "img2 = cv2.resize(image2, dsize=img_size)\n",
        "\n",
        "cv2_imshow(img1)\n",
        "cv2_imshow(img2)"
      ],
      "metadata": {
        "id": "Wrk9CiumMeP_"
      },
      "execution_count": null,
      "outputs": []
    },
    {
      "cell_type": "code",
      "source": [
        "def show_img_compare(img,img1):\n",
        "  f, ax = plt.subplots(1, 2, figsize=(10,10))\n",
        "  ax[0].imshow(img)\n",
        "  ax[1].imshow(img1)\n",
        "  ax[0].axis('off')\n",
        "  ax[1].axis('off')\n",
        "  f.tight_layout()\n",
        "  plt.show()"
      ],
      "metadata": {
        "id": "vduXWHPANkfV"
      },
      "execution_count": null,
      "outputs": []
    },
    {
      "cell_type": "code",
      "source": [
        "show_img_compare(img1, img2)"
      ],
      "metadata": {
        "id": "On6V4XI0RCVQ"
      },
      "execution_count": null,
      "outputs": []
    },
    {
      "cell_type": "code",
      "source": [
        "#평균 픽셀값 비교\n",
        "img_temp1 = img1.copy()\n",
        "img_temp1[:,:,0], img_temp1[:,:,1], img_temp1[:,:,2] = np.average(img1, axis=(0,1))\n",
        "\n",
        "img_temp2 = img2.copy()\n",
        "img_temp2[:,:,0], img_temp2[:,:,1], img_temp2[:,:,2] = np.average(img2, axis=(0,1))\n",
        "\n",
        "show_img_compare(img1, img_temp1)\n",
        "show_img_compare(img2, img_temp2)"
      ],
      "metadata": {
        "id": "YboM_PxITKXx"
      },
      "execution_count": null,
      "outputs": []
    },
    {
      "cell_type": "code",
      "source": [
        "#가장 많이 해당되는 픽셀 색깔 출력\n",
        "\n",
        "print(img1.reshape(-1, 3).shape)\n",
        "img1.reshape(-1,3)"
      ],
      "metadata": {
        "id": "X6hhauTsXy7Y"
      },
      "execution_count": null,
      "outputs": []
    },
    {
      "cell_type": "code",
      "source": [
        "unique, counts = np.unique(img1.reshape(-1, 3), axis=0, return_counts=True)\n",
        "print(unique)\n",
        "print(counts)"
      ],
      "metadata": {
        "id": "nYDzxEO2Z53Q"
      },
      "execution_count": null,
      "outputs": []
    },
    {
      "cell_type": "code",
      "source": [
        "#실패\n",
        "img_temp1 = img1.copy()\n",
        "unique, counts = np.unique(img_temp1.reshape(-1, 3), axis = 0, return_counts=True)\n",
        "img_temp1[:,:,0], img_temp1[:,:,1], img_temp1[:,:,2] = unique[np.argmax(counts)]\n",
        "\n",
        "img_temp2 = img2.copy()\n",
        "unique, counts = np.unique(img_temp2.reshape(-1, 3), axis = 0, return_counts=True)\n",
        "img_temp2[:,:,0], img_temp2[:,:,1], img_temp2[:,:,2] = unique[np.argmax(counts)]\n",
        "\n",
        "show_img_compare(img1, img_temp1)\n",
        "show_img_compare(img2, img_temp2)"
      ],
      "metadata": {
        "id": "IIqcwsUgaJfo"
      },
      "execution_count": null,
      "outputs": []
    },
    {
      "cell_type": "code",
      "source": [
        "from sklearn.cluster import KMeans\n",
        "#많이 출력되는 색깔 TOP5\n",
        "#n_clusters 갯수 = 추출할 색깔 갯수\n",
        "clt = KMeans(n_clusters = 5)  \n",
        "\n",
        "def palette(clusters):\n",
        "  width = 300\n",
        "  palette = np.zeros((50, width, 3), np.uint8)\n",
        "  steps = width/clusters.cluster_centers_.shape[0]\n",
        "  for idx, centers in enumerate(clusters.cluster_centers_):\n",
        "    palette[:, int(idx*steps):(int((idx+1)*steps)), :] = centers\n",
        "  return palette\n",
        "\n",
        "new_img1 = clt.fit(img1.reshape(-1,3))\n",
        "show_img_compare(img1, palette(new_img1))\n",
        "\n",
        "new_img2 = clt.fit(img2.reshape(-1,3))\n",
        "show_img_compare(img2, palette(new_img1))"
      ],
      "metadata": {
        "id": "4B-a-A5jUx5R"
      },
      "execution_count": null,
      "outputs": []
    },
    {
      "cell_type": "code",
      "source": [
        "from collections import Counter\n",
        "#많이 출력되는 색깔 TOP5(빈도수도 고려)\n",
        "\n",
        "def color(k_cluster):\n",
        "  width = 300\n",
        "  palette = np.zeros((50, width, 3), np.uint8)\n",
        "\n",
        "  n_pixels = len(k_cluster.labels_)\n",
        "  counter = Counter(k_cluster.labels_)\n",
        "  perc = {}\n",
        "  for i in counter:\n",
        "    perc[i] = np.round(counter[i]/n_pixels, 2)\n",
        "  perc = dict(sorted(perc.items()))\n",
        "\n",
        "  print(perc)\n",
        "  print(k_cluster.cluster_centers_)\n",
        "\n",
        "  step = 0\n",
        "\n",
        "  for idx, centers in enumerate(k_cluster.cluster_centers_):\n",
        "    palette[:, step:int(step + perc[idx]*width+1), :] = centers\n",
        "    step += int(perc[idx]*width+1)\n",
        "\n",
        "  return palette\n",
        "\n",
        "new_img1 = clt.fit(img1.reshape(-1,3))\n",
        "show_img_compare(img1, color(new_img1))\n",
        "\n",
        "new_img2 = clt.fit(img2.reshape(-1,3))\n",
        "show_img_compare(img2, color(new_img2))"
      ],
      "metadata": {
        "id": "EoeK2XGfRz4K"
      },
      "execution_count": null,
      "outputs": []
    }
  ]
}